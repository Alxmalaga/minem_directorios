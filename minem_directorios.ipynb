{
 "cells": [
  {
   "cell_type": "code",
   "execution_count": 12,
   "metadata": {},
   "outputs": [],
   "source": [
    "#Descargar información de la página de MINEM\n",
    "#Archivo de tipo excel xls, con varias hojas y encabezado a no considerar.\n",
    "#Página web: http://www.minem.gob.pe/_detalle.php?idSector=6&idTitular=6143&idMenu=sub113&idCateg=1039\n",
    "\n",
    "import pandas as pd\n",
    "\n",
    "url = 'http://www.minem.gob.pe/minem/archivos/DIRECTORIO%20EN%20ACTUALIZACION%20%20-%20PUBLICADO%20en%20WEB.xls'\n",
    "df1 = pd.read_excel(url, sheet_name='Generadores ME', skiprows=3)  \n",
    "df2 = pd.read_excel(url, sheet_name='Transmisores', skiprows=3)    \n",
    "df3 = pd.read_excel(url, sheet_name='Distribuidores', skiprows=3)    \n",
    "\n",
    "df1.to_excel(\"C:\\\\Users\\\\Intel\\\\Documents\\\\Mis documentos IDEA\\\\Samples\\\\Archivos fuente.ILB\\\\Directorio_minem_gen.xlsx\") \n",
    "df2.to_excel(\"C:\\\\Users\\\\Intel\\\\Documents\\\\Mis documentos IDEA\\\\Samples\\\\Archivos fuente.ILB\\\\Directorio_minem_trans.xlsx\") \n",
    "df3.to_excel(\"C:\\\\Users\\\\Intel\\\\Documents\\\\Mis documentos IDEA\\\\Samples\\\\Archivos fuente.ILB\\\\Directorio_minem_distrib.xlsx\") \n"
   ]
  },
  {
   "cell_type": "code",
   "execution_count": null,
   "metadata": {},
   "outputs": [],
   "source": []
  }
 ],
 "metadata": {
  "kernelspec": {
   "display_name": "Python 3",
   "language": "python",
   "name": "python3"
  },
  "language_info": {
   "codemirror_mode": {
    "name": "ipython",
    "version": 3
   },
   "file_extension": ".py",
   "mimetype": "text/x-python",
   "name": "python",
   "nbconvert_exporter": "python",
   "pygments_lexer": "ipython3",
   "version": "3.7.6"
  }
 },
 "nbformat": 4,
 "nbformat_minor": 4
}
